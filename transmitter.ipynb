{
 "cells": [
  {
   "cell_type": "code",
   "execution_count": 1,
   "metadata": {},
   "outputs": [],
   "source": [
    "import numpy as np\n",
    "from math import cos, pi\n",
    "import matplotlib.pyplot as plt\n",
    "%matplotlib notebook"
   ]
  },
  {
   "cell_type": "markdown",
   "metadata": {},
   "source": [
    "# Generate textfile"
   ]
  },
  {
   "cell_type": "code",
   "execution_count": 2,
   "metadata": {},
   "outputs": [],
   "source": [
    "#Comment this line if you don't want to generate a new text file\n",
    "%run generate_text.py -n 160 -o resources/text.txt"
   ]
  },
  {
   "cell_type": "markdown",
   "metadata": {},
   "source": [
    "# Get text form file"
   ]
  },
  {
   "cell_type": "code",
   "execution_count": 3,
   "metadata": {},
   "outputs": [
    {
     "name": "stdout",
     "output_type": "stream",
     "text": [
      "{Dd}'ghi$Qqc!NNN}e9E;t!o\"b<}NF\\dsA1a&\\{/+1'|S<3:Q+W%lo=#r=;c\"6b[Pl-+ar;j/pla:sa^R\"nrk2>|>j9*.#,)IBH<M-&apk1\"fUz`o8Q/y-X:z9O\\8,\"gJ(f+C:+4@h9x&6+&CH]*2^-rkdCc/&e,\n"
     ]
    }
   ],
   "source": [
    "path_text = \"resources/text.txt\"\n",
    "with open(path_text, \"r\") as file:\n",
    "        text = file.read()\n",
    "print(text)\n"
   ]
  },
  {
   "cell_type": "markdown",
   "metadata": {},
   "source": [
    "# Convert text to binary"
   ]
  },
  {
   "cell_type": "code",
   "execution_count": 4,
   "metadata": {},
   "outputs": [],
   "source": [
    "barker = [1,1,1,1,1,0,0,1,1,0,1,0,1]\n",
    "EOT = [0,0,0,0,1,0,0]\n",
    "\n",
    "\n",
    "def to_binary(text):\n",
    "    \"\"\"\n",
    "    Convert the text to a binary array. Each character is converted\n",
    "    to its ASCII binary representation. 13-Length barker code are\n",
    "    appended at the beginning and the end of the signal.\n",
    "    \n",
    "    :param text: string containing the text we want to send\n",
    "    :return binary: numpy array containing the binary form of the text\n",
    "    \"\"\"\n",
    "    binary = barker[:]\n",
    "\n",
    "    for c in text:\n",
    "        ascii_val = ord(c)\n",
    "        bits = bin(ascii_val)[2:]\n",
    "        padding = \"0\"*(7-len(bits))\n",
    "        bits = padding + bits\n",
    "        bits = [int(b) for b in bits]\n",
    "        binary.extend(bits)\n",
    "    \n",
    "    binary.extend(EOT)\n",
    "    binary = np.array(binary)\n",
    "\n",
    "    return binary"
   ]
  },
  {
   "cell_type": "code",
   "execution_count": 5,
   "metadata": {},
   "outputs": [
    {
     "name": "stdout",
     "output_type": "stream",
     "text": [
      "1127 bits must be sent with 13 bits for the synchronization, total: 1140\n"
     ]
    }
   ],
   "source": [
    "binary_text_with_barker = to_binary(text)\n",
    "binary_text = binary_text_with_barker[len(barker):]\n",
    "print(str(len(binary_text)), \"bits must be sent with\", str(len(barker)), \"bits for the synchronization, total:\", str(len(binary_text_with_barker)))"
   ]
  },
  {
   "cell_type": "markdown",
   "metadata": {},
   "source": [
    "# Convert binary to waveform"
   ]
  },
  {
   "cell_type": "code",
   "execution_count": 6,
   "metadata": {},
   "outputs": [],
   "source": [
    "Fs = 22050\n",
    "nbr_sample = 100\n",
    "t = np.arange(nbr_sample)\n",
    "f00 = 2000\n",
    "f01 = 4000\n",
    "f10 = 6000\n",
    "f11 = 8000"
   ]
  },
  {
   "cell_type": "code",
   "execution_count": 7,
   "metadata": {},
   "outputs": [],
   "source": [
    "def base0(t):\n",
    "    \"\"\"\n",
    "    Basis for the 0-bit\n",
    "    \"\"\"\n",
    "    return 0.5*(cos(2*pi*f00*t/Fs)+cos(2*pi*f01*t/Fs))\n",
    "\n",
    "def base1(t):\n",
    "    \"\"\"\n",
    "    Basis for the 1-bit\n",
    "    \"\"\"\n",
    "    return 0.5*(cos(2*pi*f10*t/Fs)+cos(2*pi*f11*t/Fs))\n",
    "\n",
    "def bit_to_wave(b):\n",
    "    \"\"\"\n",
    "    Converts one bit to its signal form sampled between 0 and 100/Fs\n",
    "    \n",
    "    :param b: the bit we want to convert\n",
    "    :return: the sampled signal corresponding either to base0 or base1\n",
    "    \"\"\"\n",
    "    if b == 0:\n",
    "        f = np.vectorize(base0)\n",
    "        return f(t)\n",
    "    elif b == 1:\n",
    "        f = np.vectorize(base1)\n",
    "        return f(t)\n",
    "\n",
    "signals = bit_to_wave(binary_text_with_barker[0])\n",
    "for b in binary_text_with_barker[1:]:\n",
    "    signals = np.hstack((signals, bit_to_wave(b)))"
   ]
  },
  {
   "cell_type": "code",
   "execution_count": 8,
   "metadata": {
    "scrolled": true
   },
   "outputs": [],
   "source": [
    "barker_wave = signals[:nbr_sample*len(barker)]\n",
    "barker_wave_length = barker_wave.size\n",
    "\n",
    "signal_path = \"resources/signal.txt\"\n",
    "np.savetxt(signal_path, signals)"
   ]
  },
  {
   "cell_type": "markdown",
   "metadata": {},
   "source": [
    "# Send signal to the server"
   ]
  },
  {
   "cell_type": "code",
   "execution_count": 9,
   "metadata": {},
   "outputs": [
    {
     "ename": "ConnectionRefusedError",
     "evalue": "[Errno 111] Connection refused",
     "output_type": "error",
     "traceback": [
      "\u001b[0;31m---------------------------------------------------------------------------\u001b[0m",
      "\u001b[0;31mConnectionRefusedError\u001b[0m                    Traceback (most recent call last)",
      "\u001b[0;32m~/Dropbox/EPFL/BA6/PDC/PDC-project/pdc_project_channel_access/client.py\u001b[0m in \u001b[0;36m<module>\u001b[0;34m\u001b[0m\n\u001b[1;32m     62\u001b[0m \u001b[0;34m\u001b[0m\u001b[0m\n\u001b[1;32m     63\u001b[0m     \u001b[0;32mwith\u001b[0m \u001b[0msocket\u001b[0m\u001b[0;34m.\u001b[0m\u001b[0msocket\u001b[0m\u001b[0;34m(\u001b[0m\u001b[0mfamily\u001b[0m\u001b[0;34m=\u001b[0m\u001b[0msocket\u001b[0m\u001b[0;34m.\u001b[0m\u001b[0mAF_INET\u001b[0m\u001b[0;34m,\u001b[0m \u001b[0mtype\u001b[0m\u001b[0;34m=\u001b[0m\u001b[0msocket\u001b[0m\u001b[0;34m.\u001b[0m\u001b[0mSOCK_STREAM\u001b[0m\u001b[0;34m)\u001b[0m \u001b[0;32mas\u001b[0m \u001b[0msock_cl\u001b[0m\u001b[0;34m:\u001b[0m\u001b[0;34m\u001b[0m\u001b[0;34m\u001b[0m\u001b[0m\n\u001b[0;32m---> 64\u001b[0;31m         \u001b[0msock_cl\u001b[0m\u001b[0;34m.\u001b[0m\u001b[0mconnect\u001b[0m\u001b[0;34m(\u001b[0m\u001b[0;34m(\u001b[0m\u001b[0margs\u001b[0m\u001b[0;34m.\u001b[0m\u001b[0msrv_hostname\u001b[0m\u001b[0;34m,\u001b[0m \u001b[0margs\u001b[0m\u001b[0;34m.\u001b[0m\u001b[0msrv_port\u001b[0m\u001b[0;34m)\u001b[0m\u001b[0;34m)\u001b[0m\u001b[0;34m\u001b[0m\u001b[0;34m\u001b[0m\u001b[0m\n\u001b[0m\u001b[1;32m     65\u001b[0m         \u001b[0mch\u001b[0m\u001b[0;34m.\u001b[0m\u001b[0msend_ndarray\u001b[0m\u001b[0;34m(\u001b[0m\u001b[0msock_cl\u001b[0m\u001b[0;34m,\u001b[0m \u001b[0mtx_p_signal\u001b[0m\u001b[0;34m)\u001b[0m\u001b[0;34m\u001b[0m\u001b[0;34m\u001b[0m\u001b[0m\n\u001b[1;32m     66\u001b[0m \u001b[0;34m\u001b[0m\u001b[0m\n",
      "\u001b[0;31mConnectionRefusedError\u001b[0m: [Errno 111] Connection refused"
     ]
    },
    {
     "name": "stdout",
     "output_type": "stream",
     "text": [
      "Siganl saved at recv.txt\n"
     ]
    }
   ],
   "source": [
    "%run pdc_project_channel_access/client.py --input_file=resources/signal.txt --output_file=resources/recv.txt --srv_hostname=iscsrv72.epfl.ch --srv_port=80\n",
    "\n",
    "print(\"Siganl saved at recv.txt\")"
   ]
  },
  {
   "cell_type": "markdown",
   "metadata": {},
   "source": [
    "# Load signal from file"
   ]
  },
  {
   "cell_type": "code",
   "execution_count": 10,
   "metadata": {},
   "outputs": [],
   "source": [
    "recv_path = \"resources/recv.txt\"\n",
    "filtered_signal = np.loadtxt(recv_path)"
   ]
  },
  {
   "cell_type": "markdown",
   "metadata": {},
   "source": [
    "# Synchronization"
   ]
  },
  {
   "cell_type": "code",
   "execution_count": 11,
   "metadata": {
    "scrolled": false
   },
   "outputs": [
    {
     "data": {
      "image/png": "[encoded data removed]",
      "text/plain": [
       "<Figure size 432x288 with 1 Axes>"
      ]
     },
     "metadata": {
      "needs_background": "light"
     },
     "output_type": "display_data"
    }
   ],
   "source": [
    "threshold = 50\n",
    "\n",
    "#compute autocorrelation\n",
    "auto = np.correlate(filtered_signal, barker_wave, mode='same')\n",
    "\n",
    "plt.figure(\"Correlation between received signal and barker code signal\")\n",
    "plt.plot(auto)\n",
    "plt.show()\n",
    "\n",
    "#Find first peak\n",
    "first_peak = np.argwhere(auto > threshold)[0,0]\n",
    "end = first_peak+2*barker_wave_length\n",
    "#Find peak of the windowed correlation to get the beginning of the signal\n",
    "xd = np.argmax(auto[:end]) + barker_wave_length//2\n",
    "filtered_signal = filtered_signal[xd:]\n"
   ]
  },
  {
   "cell_type": "markdown",
   "metadata": {},
   "source": [
    "# Decode"
   ]
  },
  {
   "cell_type": "code",
   "execution_count": 12,
   "metadata": {},
   "outputs": [],
   "source": [
    "def signal_to_binary(filtered_signal):\n",
    "    \"\"\"\n",
    "    Decode the signal\n",
    "    \"\"\"\n",
    "    nbr_chars = filtered_signal.size//nbr_sample\n",
    "\n",
    "    bits = []\n",
    "    for i in range(nbr_chars):\n",
    "        s = filtered_signal[i*nbr_sample:(i+1)*nbr_sample]\n",
    "        fft = np.fft.fft(s)\n",
    "        b = 0 if np.argmax(fft)*Fs/nbr_sample < 5000 else 1\n",
    "        bits.append(b)\n",
    "    return bits"
   ]
  },
  {
   "cell_type": "code",
   "execution_count": 13,
   "metadata": {},
   "outputs": [],
   "source": [
    "decoded_binary = signal_to_binary(filtered_signal)"
   ]
  },
  {
   "cell_type": "markdown",
   "metadata": {},
   "source": [
    "# Convert binary back to text"
   ]
  },
  {
   "cell_type": "code",
   "execution_count": 14,
   "metadata": {},
   "outputs": [],
   "source": [
    "def get_chunks(decoded_binary):\n",
    "    \"\"\"\n",
    "    Convert the decoded binary into a list of chunks of 7 bits\n",
    "    corresponding to the ASCII character\n",
    "    \"\"\"\n",
    "    bits = []\n",
    "    for i in range(0, len(decoded_binary), 7):\n",
    "        if decoded_binary[i:i+7] == EOT:\n",
    "            return i, bits\n",
    "        bits.append(decoded_binary[i:i+7])\n",
    "\n",
    "def binary_to_text(bits):\n",
    "    \"\"\"\n",
    "    Convert the chunks of bits into a string\n",
    "    \"\"\"\n",
    "    bits = [''.join([str(b) for b in bs]) for bs in bits]\n",
    "    return bits"
   ]
  },
  {
   "cell_type": "code",
   "execution_count": 15,
   "metadata": {},
   "outputs": [
    {
     "name": "stdout",
     "output_type": "stream",
     "text": [
      ">HtV(#VwhVg/A'22\\ll1[CG'dst~_q]5bm;C2U;dB6kaeElrW-G{V{)0pctQ84i)}p[f*9'L*3Rt\"Q+}9Y,j{z'4O$dZU8faHVlOhrvFnZl34]?R=?f{&|p}k[5B%9)\"/kDe{lN1|s0IIrF^bsC{R0xA}nceLE/.\n"
     ]
    }
   ],
   "source": [
    "i, chunks = get_chunks(decoded_binary)\n",
    "decoded_binary = decoded_binary[:i+7]\n",
    "decoded_text = binary_to_text(chunks)\n",
    "decoded_text = [chr(int(x,2)) for x in decoded_text]\n",
    "recovered_text = ''.join(decoded_text)\n",
    "print(recovered_text)"
   ]
  },
  {
   "cell_type": "markdown",
   "metadata": {},
   "source": [
    "# Compute error rate"
   ]
  },
  {
   "cell_type": "code",
   "execution_count": 16,
   "metadata": {},
   "outputs": [
    {
     "name": "stdout",
     "output_type": "stream",
     "text": [
      "0.4525288376220053\n"
     ]
    }
   ],
   "source": [
    "nbr_error = np.sum(np.abs(np.array(decoded_binary)-binary_text))\n",
    "error_rate = nbr_error/len(decoded_binary)\n",
    "print(error_rate)"
   ]
  },
  {
   "cell_type": "code",
   "execution_count": null,
   "metadata": {},
   "outputs": [],
   "source": []
  }
 ],
 "metadata": {
  "kernelspec": {
   "display_name": "Python 3",
   "language": "python",
   "name": "python3"
  },
  "language_info": {
   "codemirror_mode": {
    "name": "ipython",
    "version": 3
   },
   "file_extension": ".py",
   "mimetype": "text/x-python",
   "name": "python",
   "nbconvert_exporter": "python",
   "pygments_lexer": "ipython3",
   "version": "3.7.1"
  }
 },
 "nbformat": 4,
 "nbformat_minor": 2
}
