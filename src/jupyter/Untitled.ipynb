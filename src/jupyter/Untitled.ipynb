{
 "cells": [
  {
   "cell_type": "code",
   "execution_count": 359,
   "metadata": {},
   "outputs": [],
   "source": [
    "import numpy as np\n",
    "from math import cos, pi\n",
    "import matplotlib.pyplot as plt"
   ]
  },
  {
   "cell_type": "markdown",
   "metadata": {},
   "source": [
    "# Generate textfile"
   ]
  },
  {
   "cell_type": "code",
   "execution_count": 360,
   "metadata": {},
   "outputs": [],
   "source": [
    "%run generate_text.py -n 160 -o text.txt"
   ]
  },
  {
   "cell_type": "markdown",
   "metadata": {},
   "source": [
    "# Get text form file"
   ]
  },
  {
   "cell_type": "code",
   "execution_count": 361,
   "metadata": {},
   "outputs": [
    {
     "name": "stdout",
     "output_type": "stream",
     "text": [
      ":yBQ2L+wAel*niI73R#T`b(R\\{IPEq^|0ulgC&G#D_W|K>{Ur;WTuz?{G8&O$&Vg;<dG2|8Fh40_Gyg4Nw^tLK8:F3_tD9[;SGNi6#+V@/p9U#HgKHGrnk~L&[a1qi2v*V)7t6;`)@>mjb9e0[^>N&D#}uY3veK8\n"
     ]
    }
   ],
   "source": [
    "path_text = \"text.txt\"\n",
    "with open(path_text, \"r\") as file:\n",
    "        text = file.read()\n",
    "print(text)\n",
    "text_length = len(text)"
   ]
  },
  {
   "cell_type": "markdown",
   "metadata": {},
   "source": [
    "# Convert text to binary"
   ]
  },
  {
   "cell_type": "code",
   "execution_count": 362,
   "metadata": {},
   "outputs": [],
   "source": [
    "barker1 = [1,1,1,1,1,0,0,1,1,0,1,0,1]*5\n",
    "barker2 = [1,1,1,0,0,1,0]*5\n",
    "\n",
    "\n",
    "\"\"\"\"barker1 = np.random.normal(0.0, 1, size=5*text_length)\n",
    "barker1[barker1 <= 0] = 0\n",
    "barker1[barker1 > 0] = 1\n",
    "barker1 = barker1.tolist()\n",
    "barker2 = np.random.normal(0.0, 1, size=5*text_length)\n",
    "barker2[barker2 <= 0] = 0\n",
    "barker2[barker2 > 0] = 1\n",
    "barker2 = barker2.tolist()\"\"\"\n",
    "\n",
    "\n",
    "def to_binary(text):\n",
    "    \"\"\"\n",
    "    Convert the text to a binary array. Each character is converted\n",
    "    to its ASCII binary representation. 13-Length barker code are\n",
    "    appended at the beginning and the end of the signal.\n",
    "    \n",
    "    :param text: string containing the text we want to send\n",
    "    :return binary: numpy array containing the binary form of the text\n",
    "    \"\"\"\n",
    "    binary = barker1[:]\n",
    "\n",
    "    for c in text:\n",
    "        ascii_val = ord(c)\n",
    "        bits = bin(ascii_val)[2:]\n",
    "        padding = \"0\"*(7-len(bits))\n",
    "        bits = padding + bits\n",
    "        bits = [int(b) for b in bits]\n",
    "        binary.extend(bits)\n",
    "\n",
    "    binary.extend(barker2)\n",
    "    binary = np.array(binary)\n",
    "\n",
    "    return binary"
   ]
  },
  {
   "cell_type": "code",
   "execution_count": 363,
   "metadata": {},
   "outputs": [],
   "source": [
    "binary_text_with_barker = to_binary(text)\n",
    "binary_text = binary_text_with_barker[len(barker1):-len(barker2)]"
   ]
  },
  {
   "cell_type": "markdown",
   "metadata": {},
   "source": [
    "# Convert binary to waveform"
   ]
  },
  {
   "cell_type": "code",
   "execution_count": 364,
   "metadata": {},
   "outputs": [],
   "source": [
    "Fs = 22050\n",
    "nbr_sample = 100\n",
    "t = np.arange(nbr_sample)\n",
    "f00 = 2000\n",
    "f01 = 4000\n",
    "f10 = 6000\n",
    "f11 = 8000"
   ]
  },
  {
   "cell_type": "code",
   "execution_count": 365,
   "metadata": {},
   "outputs": [
    {
     "name": "stdout",
     "output_type": "stream",
     "text": [
      "Size of the signal 122000\n"
     ]
    }
   ],
   "source": [
    "def base0(t):\n",
    "    return 0.5*(cos(2*pi*f00*t/Fs)+cos(2*pi*f01*t/Fs))\n",
    "\n",
    "def base1(t):\n",
    "    return 0.5*(cos(2*pi*f10*t/Fs)+cos(2*pi*f11*t/Fs))\n",
    "\n",
    "def bit_to_wave(b):\n",
    "    \"\"\"\n",
    "    Converts one bit to its signal form sampled between 0 and 100/Fs\n",
    "    \n",
    "    :param b: the bit we want to convert\n",
    "    :return: the sampled signal corresponding either to base0 or base1\n",
    "    \"\"\"\n",
    "    if b == 0:\n",
    "        f = np.vectorize(base0)\n",
    "        return f(t)\n",
    "    elif b == 1:\n",
    "        f = np.vectorize(base1)\n",
    "        return f(t)\n",
    "\n",
    "signals = bit_to_wave(binary_text_with_barker[0])\n",
    "for b in binary_text_with_barker[1:]:\n",
    "    signals = np.hstack((signals, bit_to_wave(b)))\n",
    "\n",
    "print(\"Size of the signal\",signals.size)"
   ]
  },
  {
   "cell_type": "code",
   "execution_count": 366,
   "metadata": {
    "scrolled": true
   },
   "outputs": [],
   "source": [
    "barker_wave1 = signals[:nbr_sample*len(barker1)]\n",
    "barker_wave2 = signals[-nbr_sample*len(barker2):]\n",
    "signal_path = \"signal.txt\"\n",
    "np.savetxt(signal_path, signals)"
   ]
  },
  {
   "cell_type": "markdown",
   "metadata": {},
   "source": [
    "# Send signal to the server"
   ]
  },
  {
   "cell_type": "code",
   "execution_count": 367,
   "metadata": {},
   "outputs": [
    {
     "name": "stdout",
     "output_type": "stream",
     "text": [
      "Siganl saved at recv.txt\n"
     ]
    }
   ],
   "source": [
    "%run pdc_project_channel_access/client.py --input_file=signal.txt --output_file=recv.txt --srv_hostname=iscsrv72.epfl.ch --srv_port=80\n",
    "\n",
    "print(\"Siganl saved at recv.txt\")"
   ]
  },
  {
   "cell_type": "markdown",
   "metadata": {},
   "source": [
    "# Load signal from file"
   ]
  },
  {
   "cell_type": "code",
   "execution_count": 368,
   "metadata": {},
   "outputs": [],
   "source": [
    "recv_path = \"recv.txt\"\n",
    "filtered_signal = np.loadtxt(recv_path)"
   ]
  },
  {
   "cell_type": "markdown",
   "metadata": {},
   "source": [
    "# Synchronization"
   ]
  },
  {
   "cell_type": "code",
   "execution_count": 369,
   "metadata": {},
   "outputs": [
    {
     "data": {
      "image/png": "[encoded data removed]",
      "text/plain": [
       "<Figure size 432x288 with 1 Axes>"
      ]
     },
     "metadata": {
      "needs_background": "light"
     },
     "output_type": "display_data"
    },
    {
     "data": {
      "image/png": "[encoded data removed]",
      "text/plain": [
       "<Figure size 432x288 with 1 Axes>"
      ]
     },
     "metadata": {
      "needs_background": "light"
     },
     "output_type": "display_data"
    },
    {
     "name": "stdout",
     "output_type": "stream",
     "text": [
      "Size of the synchronized received signal 111989\n"
     ]
    }
   ],
   "source": [
    "recv_path = \"recv.txt\"\n",
    "filtered_signal = np.loadtxt(recv_path)\n",
    "\n",
    "#compute autocorrelation\n",
    "auto1 = np.correlate(filtered_signal, barker_wave1, mode='same')\n",
    "auto2 = np.correlate(filtered_signal, barker_wave2, mode='same')\n",
    "\n",
    "plt.plot(np.arange(auto1.size), auto1)\n",
    "plt.show()\n",
    "plt.plot(np.arange(auto2.size), auto2)\n",
    "plt.show()\n",
    "\n",
    "x0 = np.argmax(auto1) + barker_wave1.size//2\n",
    "xe = np.argmax(auto2) - barker_wave2.size//2\n",
    "print(\"Size of the synchronized received signal\", xe-x0)\n",
    "filtered_signal = filtered_signal[x0:xe+1]"
   ]
  },
  {
   "cell_type": "markdown",
   "metadata": {},
   "source": [
    "# Decode"
   ]
  },
  {
   "cell_type": "code",
   "execution_count": 370,
   "metadata": {},
   "outputs": [],
   "source": [
    "def signal_to_binary(filtered_signal):\n",
    "    nbr_chars = filtered_signal.size//nbr_sample\n",
    "\n",
    "    bits = []\n",
    "    for i in range(nbr_chars):\n",
    "        s = filtered_signal[i*nbr_sample:(i+1)*nbr_sample]\n",
    "        fft = np.fft.fft(s)\n",
    "        b = 0 if np.argmax(fft)*Fs/nbr_sample < 5000 else 1\n",
    "        bits.append(b)\n",
    "    return bits"
   ]
  },
  {
   "cell_type": "code",
   "execution_count": 371,
   "metadata": {},
   "outputs": [],
   "source": [
    "decoded_binary = signal_to_binary(filtered_signal)"
   ]
  },
  {
   "cell_type": "markdown",
   "metadata": {},
   "source": [
    "# Convert binary back to text"
   ]
  },
  {
   "cell_type": "code",
   "execution_count": 372,
   "metadata": {},
   "outputs": [],
   "source": [
    "def binary_to_text(bits):\n",
    "    bits = [bits[i:i+7] for i in range(0, len(bits),7)]\n",
    "    bits = [''.join([str(b) for b in bs]) for bs in bits]\n",
    "    return bits"
   ]
  },
  {
   "cell_type": "code",
   "execution_count": 373,
   "metadata": {},
   "outputs": [
    {
     "name": "stdout",
     "output_type": "stream",
     "text": [
      "8y\u0002\u0010 \b\u000b",
      "g\u0001Ah\bNA\b&#B\u0003P``\u0000\u0000\u0018{A\u0000\u0001q\u001e",
      "x eHgC\u0006\u0007#@_\u0007|\n",
      ">{\u0015b;\u0007@qx?{F0&\u000f$$VG2<@F0|8Fh00\u001f\u0007yF$\f",
      "w\\`LC80\u00043_p\u00001S;C\u0007\u000eH&#\u0003\u0016\u0000/p1Q\u0003@GC\bGbNc|\f",
      "\u0004\u0013`1qi0d \u0004\u0000'`$;`\t@>IBb9D0\u001b\u001e",
      ">\u000e&\u0000\u0003yeX3vaK\u0018\n"
     ]
    }
   ],
   "source": [
    "decoded_text = binary_to_text(decoded_binary)\n",
    "decoded_text = [chr(int(x,2)) for x in decoded_text]\n",
    "recovered_text = ''.join(decoded_text)\n",
    "print(recovered_text)"
   ]
  },
  {
   "cell_type": "markdown",
   "metadata": {},
   "source": [
    "# Compute error rate"
   ]
  },
  {
   "cell_type": "code",
   "execution_count": 374,
   "metadata": {},
   "outputs": [
    {
     "ename": "ValueError",
     "evalue": "operands could not be broadcast together with shapes (1119,) (1120,) ",
     "output_type": "error",
     "traceback": [
      "\u001b[0;31m---------------------------------------------------------------------------\u001b[0m",
      "\u001b[0;31mValueError\u001b[0m                                Traceback (most recent call last)",
      "\u001b[0;32m<ipython-input-374-57e9eb2b3549>\u001b[0m in \u001b[0;36m<module>\u001b[0;34m\u001b[0m\n\u001b[0;32m----> 1\u001b[0;31m \u001b[0mnbr_error\u001b[0m \u001b[0;34m=\u001b[0m \u001b[0mnp\u001b[0m\u001b[0;34m.\u001b[0m\u001b[0msum\u001b[0m\u001b[0;34m(\u001b[0m\u001b[0mnp\u001b[0m\u001b[0;34m.\u001b[0m\u001b[0mabs\u001b[0m\u001b[0;34m(\u001b[0m\u001b[0mnp\u001b[0m\u001b[0;34m.\u001b[0m\u001b[0marray\u001b[0m\u001b[0;34m(\u001b[0m\u001b[0mdecoded_binary\u001b[0m\u001b[0;34m)\u001b[0m\u001b[0;34m-\u001b[0m\u001b[0mbinary_text\u001b[0m\u001b[0;34m)\u001b[0m\u001b[0;34m)\u001b[0m\u001b[0;34m\u001b[0m\u001b[0;34m\u001b[0m\u001b[0m\n\u001b[0m\u001b[1;32m      2\u001b[0m \u001b[0merror_rate\u001b[0m \u001b[0;34m=\u001b[0m \u001b[0mnbr_error\u001b[0m\u001b[0;34m/\u001b[0m\u001b[0mlen\u001b[0m\u001b[0;34m(\u001b[0m\u001b[0mdecoded_binary\u001b[0m\u001b[0;34m)\u001b[0m\u001b[0;34m\u001b[0m\u001b[0;34m\u001b[0m\u001b[0m\n\u001b[1;32m      3\u001b[0m \u001b[0mprint\u001b[0m\u001b[0;34m(\u001b[0m\u001b[0merror_rate\u001b[0m\u001b[0;34m)\u001b[0m\u001b[0;34m\u001b[0m\u001b[0;34m\u001b[0m\u001b[0m\n",
      "\u001b[0;31mValueError\u001b[0m: operands could not be broadcast together with shapes (1119,) (1120,) "
     ]
    }
   ],
   "source": [
    "nbr_error = np.sum(np.abs(np.array(decoded_binary)-binary_text))\n",
    "error_rate = nbr_error/len(decoded_binary)\n",
    "print(error_rate)"
   ]
  },
  {
   "cell_type": "code",
   "execution_count": null,
   "metadata": {},
   "outputs": [],
   "source": []
  }
 ],
 "metadata": {
  "kernelspec": {
   "display_name": "Python 3",
   "language": "python",
   "name": "python3"
  },
  "language_info": {
   "codemirror_mode": {
    "name": "ipython",
    "version": 3
   },
   "file_extension": ".py",
   "mimetype": "text/x-python",
   "name": "python",
   "nbconvert_exporter": "python",
   "pygments_lexer": "ipython3",
   "version": "3.7.1"
  }
 },
 "nbformat": 4,
 "nbformat_minor": 2
}
